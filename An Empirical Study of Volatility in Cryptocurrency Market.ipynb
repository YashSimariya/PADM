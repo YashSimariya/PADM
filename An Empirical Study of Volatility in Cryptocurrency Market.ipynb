{
 "cells": [
  {
   "cell_type": "code",
   "execution_count": 1,
   "id": "b15afc35",
   "metadata": {},
   "outputs": [
    {
     "name": "stdout",
     "output_type": "stream",
     "text": [
      "Requirement already satisfied: tabulate in c:\\users\\fultonrose\\anaconda3\\lib\\site-packages (0.9.0)\n",
      "Note: you may need to restart the kernel to use updated packages.\n"
     ]
    }
   ],
   "source": [
    "pip install tabulate\n"
   ]
  },
  {
   "cell_type": "code",
   "execution_count": 30,
   "id": "c0c1c8db",
   "metadata": {},
   "outputs": [
    {
     "name": "stdout",
     "output_type": "stream",
     "text": [
      "               Mean    Median     stdev   minimum  maximum.  Skewness  \\\n",
      "BITCOINRT  0.000586  0.001330  0.041308 -0.455587  0.221475 -0.770582   \n",
      "ETHERRT    0.000750  0.001640  0.052132 -0.547019  0.232314 -0.947240   \n",
      "BNBRT     -0.000092 -0.000341  0.056806 -0.455244  0.394949 -0.132594   \n",
      "USDTRT     0.000243 -0.000690  0.065301 -0.547453  0.604866  0.786336   \n",
      "\n",
      "            Kurtosis   Jarque-Bera  Probability  Observations  \n",
      "BITCOINRT  11.044546   8777.544946          0.0        1694.0  \n",
      "ETHERRT     9.570694   6718.632738          0.0        1694.0  \n",
      "BNBRT       8.577029   5197.456751          0.0        1694.0  \n",
      "USDTRT     15.573752  17293.979586          0.0        1694.0  \n"
     ]
    },
    {
     "data": {
      "image/png": "[encoded data removed]",
      "text/plain": [
       "<Figure size 432x288 with 4 Axes>"
      ]
     },
     "metadata": {
      "needs_background": "light"
     },
     "output_type": "display_data"
    }
   ],
   "source": [
    "import csv\n",
    "import statistics\n",
    "import numpy as np\n",
    "from math import log\n",
    "from tabulate import tabulate\n",
    "import pandas as pd\n",
    "import matplotlib.pyplot as plt\n",
    "from scipy.stats import skew, kurtosis, jarque_bera\n",
    "\n",
    "def daily_log_returns(prices):\n",
    "  \"\"\"Calculate the daily log returns for a list of prices.\"\"\"\n",
    "  returns = []\n",
    "  for i in range(1, len(prices)):\n",
    "    log_return = log(prices[i] / prices[i-1])\n",
    "    returns.append(log_return)\n",
    "  return returns\n",
    "\n",
    "def load_data(filename):\n",
    "  \"\"\"Load price data from a CSV file and return a list of prices.\"\"\"\n",
    "  with open(filename, \"r\") as csv_file:\n",
    "    reader = csv.reader(csv_file)\n",
    "    # Skip the header row\n",
    "    next(reader)\n",
    "    # Extract the prices from the CSV file, handling missing or invalid data\n",
    "    prices = []\n",
    "    for row in reader:\n",
    "      try:\n",
    "        price = float(row[1])\n",
    "      except ValueError:\n",
    "        # The value couldn't be converted to a float, so skip it\n",
    "        continue\n",
    "      prices.append(price)\n",
    "  return prices\n",
    "\n",
    "\n",
    "def calc_stats(returns):\n",
    "  \"\"\"Calculate and return descriptive statistics for a list of returns.\"\"\"\n",
    "  mean = statistics.mean(returns)\n",
    "  median = statistics.median(returns)\n",
    "  stdev = statistics.stdev(returns)\n",
    "  minimum = min(returns)\n",
    "  maximum = max(returns)\n",
    "  skewness = skew(returns)\n",
    "  kurt = kurtosis(returns)\n",
    "  jb_stat, jb_pvalue = jarque_bera(returns)\n",
    "  observations = len(returns)\n",
    "  return mean, median, stdev, minimum, maximum, skewness, kurt, jb_stat, jb_pvalue, observations\n",
    "\n",
    "# Load the price data for each cryptocurrency\n",
    "btc_prices = load_data(\"BTC-USD.csv\")\n",
    "eth_prices = load_data(\"ETH-USD.csv\")\n",
    "bnb_prices = load_data(\"BNB-USD.csv\")\n",
    "usdt_prices = load_data(\"USDT-USD.csv\")\n",
    "\n",
    "btc_prices = np.array(load_data(\"BTC-USD.csv\"), dtype=np.float64)\n",
    "eth_prices = np.array(load_data(\"ETH-USD.csv\"), dtype=np.float64)\n",
    "bnb_prices = np.array(load_data(\"BNB-USD.csv\"), dtype=np.float64)\n",
    "usdt_prices = np.array(load_data(\"USDT-USD.csv\"), dtype=np.float64)\n",
    "\n",
    "\n",
    "# Calculate the daily log returns for each cryptocurrency\n",
    "btc_returns = daily_log_returns(btc_prices)\n",
    "eth_returns = daily_log_returns(eth_prices)\n",
    "bnb_returns = daily_log_returns(bnb_prices)\n",
    "usdt_returns = daily_log_returns(usdt_prices)\n",
    "\n",
    "# Calculate descriptive statistics for each cryptocurrency\n",
    "btc_stats = calc_stats(btc_returns)\n",
    "eth_stats = calc_stats(eth_returns)\n",
    "bnb_stats = calc_stats(bnb_returns)\n",
    "usdt_stats = calc_stats(usdt_returns)\n",
    "\n",
    "crypto_stats = {'BITCOINRT': btc_stats, 'ETHERRT': eth_stats, 'BNBRT': ltc_stats, 'USDTRT': xrp_stats}\n",
    "df = pd.DataFrame(crypto_stats)\n",
    "df = df.transpose()\n",
    "df.rename(columns={0: 'Mean', 1: 'Median', 2: 'stdev', 3: 'minimum', 4: 'maximum.', 5: 'Skewness', 6: 'Kurtosis', 7: 'Jarque-Bera', 8: 'Probability', 9: 'Observations'}, inplace=True)\n",
    "print(df)\n",
    "# Create a figure with 4 subplots\n",
    "fig, axs = plt.subplots(2, 2)\n",
    "\n",
    "# Plot the daily log returns for each cryptocurrency\n",
    "axs[0][0].plot(btc_returns, label=\"Bitcoin\")\n",
    "axs[0][1].plot(eth_returns, label=\"Ethereum\")\n",
    "axs[1][0].plot(ltc_returns, label=\"BNB\")\n",
    "axs[1][1].plot(xrp_returns, label=\"USDT\")\n",
    "\n",
    "# Add a legend to each subplot\n",
    "axs[0][0].legend()\n",
    "axs[0][1].legend()\n",
    "axs[1][0].legend()\n",
    "axs[1][1].legend()\n",
    "\n",
    "# Show the plot\n",
    "plt.show()\n"
   ]
  },
  {
   "cell_type": "code",
   "execution_count": 16,
   "id": "6277a85e",
   "metadata": {},
   "outputs": [
    {
     "name": "stdout",
     "output_type": "stream",
     "text": [
      "           BITCOINRT   ETHERRT     BNBRT    USDTRT\n",
      "BITCOINRT   1.000000  0.784934  0.761162  0.551680\n",
      "ETHERRT     0.784934  1.000000  0.824683  0.645465\n",
      "BNBRT       0.761162  0.824683  1.000000  0.635907\n",
      "USDTRT      0.551680  0.645465  0.635907  1.000000\n"
     ]
    }
   ],
   "source": [
    "returns = {'BITCOINRT': btc_returns, 'ETHERRT': eth_returns, 'BNBRT': ltc_returns, 'USDTRT': xrp_returns}\n",
    "df_returns = pd.DataFrame(returns)\n",
    "correlation_matrix = df_returns.corr()\n",
    "print(correlation_matrix)"
   ]
  },
  {
   "cell_type": "code",
   "execution_count": 17,
   "id": "564e7c8b",
   "metadata": {},
   "outputs": [
    {
     "name": "stdout",
     "output_type": "stream",
     "text": [
      "Currency : BITCOINRT, ADF Statistic: -28.3278, p-value : 0.0000\n",
      "Currency : ETHERRT, ADF Statistic: -12.2028, p-value : 0.0000\n",
      "Currency : BNBRT, ADF Statistic: -15.3287, p-value : 0.0000\n",
      "Currency : USDTRT, ADF Statistic: -8.7473, p-value : 0.0000\n"
     ]
    }
   ],
   "source": [
    "from statsmodels.tsa.stattools import adfuller\n",
    "for col in df_returns.columns:\n",
    "    result = adfuller(df_returns[col])\n",
    "    print(f\"Currency : {col}, ADF Statistic: {result[0]:.4f}, p-value : {result[1]:.4f}\")\n"
   ]
  },
  {
   "cell_type": "code",
   "execution_count": 18,
   "id": "0de207a5",
   "metadata": {},
   "outputs": [],
   "source": [
    "from sklearn.preprocessing import scale\n",
    "df_returns_scaled = pd.DataFrame(scale(df_returns), columns=df_returns.columns)\n"
   ]
  },
  {
   "cell_type": "code",
   "execution_count": 20,
   "id": "b5cae3af",
   "metadata": {},
   "outputs": [],
   "source": [
    "import statsmodels.api as sm\n"
   ]
  },
  {
   "cell_type": "code",
   "execution_count": 21,
   "id": "45f439e5",
   "metadata": {},
   "outputs": [],
   "source": [
    "# Transform returns into time series format\n",
    "ts_returns = pd.DataFrame(btc_returns)\n",
    "ts_returns.index = pd.date_range(start='1/1/2010', periods=len(btc_returns), freq='D')\n",
    "ts_returns = ts_returns.iloc[:,0].to_frame(name='returns')\n"
   ]
  },
  {
   "cell_type": "code",
   "execution_count": 22,
   "id": "a4d5543f",
   "metadata": {},
   "outputs": [
    {
     "name": "stderr",
     "output_type": "stream",
     "text": [
      "C:\\Users\\FultonRose\\anaconda3\\lib\\site-packages\\statsmodels\\tsa\\arima_model.py:472: FutureWarning: \n",
      "statsmodels.tsa.arima_model.ARMA and statsmodels.tsa.arima_model.ARIMA have\n",
      "been deprecated in favor of statsmodels.tsa.arima.model.ARIMA (note the .\n",
      "between arima and model) and\n",
      "statsmodels.tsa.SARIMAX. These will be removed after the 0.12 release.\n",
      "\n",
      "statsmodels.tsa.arima.model.ARIMA makes use of the statespace framework and\n",
      "is both well tested and maintained.\n",
      "\n",
      "To silence this warning and continue using ARMA and ARIMA until they are\n",
      "removed, use:\n",
      "\n",
      "import warnings\n",
      "warnings.filterwarnings('ignore', 'statsmodels.tsa.arima_model.ARMA',\n",
      "                        FutureWarning)\n",
      "warnings.filterwarnings('ignore', 'statsmodels.tsa.arima_model.ARIMA',\n",
      "                        FutureWarning)\n",
      "\n",
      "  warnings.warn(ARIMA_DEPRECATION_WARN, FutureWarning)\n"
     ]
    }
   ],
   "source": [
    "# Fit the ARIMA(1,1) model\n",
    "model = sm.tsa.ARIMA(ts_returns, order=(1,1,0))\n",
    "arima_fit = model.fit()\n"
   ]
  },
  {
   "cell_type": "code",
   "execution_count": 23,
   "id": "778c25f7",
   "metadata": {},
   "outputs": [
    {
     "name": "stdout",
     "output_type": "stream",
     "text": [
      "                             ARIMA Model Results                              \n",
      "==============================================================================\n",
      "Dep. Variable:              D.returns   No. Observations:                 1693\n",
      "Model:                 ARIMA(1, 1, 0)   Log Likelihood                2668.410\n",
      "Method:                       css-mle   S.D. of innovations              0.050\n",
      "Date:                Wed, 11 Jan 2023   AIC                          -5330.819\n",
      "Time:                        22:54:26   BIC                          -5314.516\n",
      "Sample:                    01-02-2010   HQIC                         -5324.783\n",
      "                         - 08-21-2014                                         \n",
      "===================================================================================\n",
      "                      coef    std err          z      P>|z|      [0.025      0.975]\n",
      "-----------------------------------------------------------------------------------\n",
      "const            2.318e-05      0.001      0.029      0.977      -0.002       0.002\n",
      "ar.L1.D.returns    -0.5388      0.020    -26.332      0.000      -0.579      -0.499\n",
      "                                    Roots                                    \n",
      "=============================================================================\n",
      "                  Real          Imaginary           Modulus         Frequency\n",
      "-----------------------------------------------------------------------------\n",
      "AR.1           -1.8559           +0.0000j            1.8559            0.5000\n",
      "-----------------------------------------------------------------------------\n"
     ]
    }
   ],
   "source": [
    "print(arima_fit.summary())\n"
   ]
  },
  {
   "cell_type": "code",
   "execution_count": 24,
   "id": "ebdf5bfe",
   "metadata": {},
   "outputs": [
    {
     "data": {
      "image/png": "[encoded data removed]",
      "text/plain": [
       "<Figure size 432x288 with 1 Axes>"
      ]
     },
     "metadata": {
      "needs_background": "light"
     },
     "output_type": "display_data"
    },
    {
     "data": {
      "image/png": "[encoded data removed]",
      "text/plain": [
       "<Figure size 432x288 with 1 Axes>"
      ]
     },
     "metadata": {
      "needs_background": "light"
     },
     "output_type": "display_data"
    }
   ],
   "source": [
    "# Plot diagnostic information\n",
    "sm.graphics.tsa.plot_acf(arima_fit.resid, lags=30)\n",
    "sm.graphics.tsa.plot_pacf(arima_fit.resid, lags=30)\n",
    "plt.show()\n"
   ]
  },
  {
   "cell_type": "code",
   "execution_count": 26,
   "id": "26f0769e",
   "metadata": {},
   "outputs": [
    {
     "name": "stderr",
     "output_type": "stream",
     "text": [
      "C:\\Users\\FultonRose\\anaconda3\\lib\\site-packages\\statsmodels\\tsa\\arima_model.py:472: FutureWarning: \n",
      "statsmodels.tsa.arima_model.ARMA and statsmodels.tsa.arima_model.ARIMA have\n",
      "been deprecated in favor of statsmodels.tsa.arima.model.ARIMA (note the .\n",
      "between arima and model) and\n",
      "statsmodels.tsa.SARIMAX. These will be removed after the 0.12 release.\n",
      "\n",
      "statsmodels.tsa.arima.model.ARIMA makes use of the statespace framework and\n",
      "is both well tested and maintained.\n",
      "\n",
      "To silence this warning and continue using ARMA and ARIMA until they are\n",
      "removed, use:\n",
      "\n",
      "import warnings\n",
      "warnings.filterwarnings('ignore', 'statsmodels.tsa.arima_model.ARMA',\n",
      "                        FutureWarning)\n",
      "warnings.filterwarnings('ignore', 'statsmodels.tsa.arima_model.ARIMA',\n",
      "                        FutureWarning)\n",
      "\n",
      "  warnings.warn(ARIMA_DEPRECATION_WARN, FutureWarning)\n"
     ]
    },
    {
     "name": "stdout",
     "output_type": "stream",
     "text": [
      "Bitcoin\n",
      "                             ARIMA Model Results                              \n",
      "==============================================================================\n",
      "Dep. Variable:              D.returns   No. Observations:                 1693\n",
      "Model:                 ARIMA(1, 1, 0)   Log Likelihood                2668.410\n",
      "Method:                       css-mle   S.D. of innovations              0.050\n",
      "Date:                Wed, 11 Jan 2023   AIC                          -5330.819\n",
      "Time:                        22:55:06   BIC                          -5314.516\n",
      "Sample:                    01-02-2010   HQIC                         -5324.783\n",
      "                         - 08-21-2014                                         \n",
      "===================================================================================\n",
      "                      coef    std err          z      P>|z|      [0.025      0.975]\n",
      "-----------------------------------------------------------------------------------\n",
      "const            2.318e-05      0.001      0.029      0.977      -0.002       0.002\n",
      "ar.L1.D.returns    -0.5388      0.020    -26.332      0.000      -0.579      -0.499\n",
      "                                    Roots                                    \n",
      "=============================================================================\n",
      "                  Real          Imaginary           Modulus         Frequency\n",
      "-----------------------------------------------------------------------------\n",
      "AR.1           -1.8559           +0.0000j            1.8559            0.5000\n",
      "-----------------------------------------------------------------------------\n"
     ]
    },
    {
     "data": {
      "image/png": "[encoded data removed]",
      "text/plain": [
       "<Figure size 432x288 with 1 Axes>"
      ]
     },
     "metadata": {
      "needs_background": "light"
     },
     "output_type": "display_data"
    },
    {
     "data": {
      "image/png": "[encoded data removed]",
      "text/plain": [
       "<Figure size 432x288 with 1 Axes>"
      ]
     },
     "metadata": {
      "needs_background": "light"
     },
     "output_type": "display_data"
    },
    {
     "name": "stderr",
     "output_type": "stream",
     "text": [
      "C:\\Users\\FultonRose\\anaconda3\\lib\\site-packages\\statsmodels\\tsa\\arima_model.py:472: FutureWarning: \n",
      "statsmodels.tsa.arima_model.ARMA and statsmodels.tsa.arima_model.ARIMA have\n",
      "been deprecated in favor of statsmodels.tsa.arima.model.ARIMA (note the .\n",
      "between arima and model) and\n",
      "statsmodels.tsa.SARIMAX. These will be removed after the 0.12 release.\n",
      "\n",
      "statsmodels.tsa.arima.model.ARIMA makes use of the statespace framework and\n",
      "is both well tested and maintained.\n",
      "\n",
      "To silence this warning and continue using ARMA and ARIMA until they are\n",
      "removed, use:\n",
      "\n",
      "import warnings\n",
      "warnings.filterwarnings('ignore', 'statsmodels.tsa.arima_model.ARMA',\n",
      "                        FutureWarning)\n",
      "warnings.filterwarnings('ignore', 'statsmodels.tsa.arima_model.ARIMA',\n",
      "                        FutureWarning)\n",
      "\n",
      "  warnings.warn(ARIMA_DEPRECATION_WARN, FutureWarning)\n"
     ]
    },
    {
     "name": "stdout",
     "output_type": "stream",
     "text": [
      "Ethereum\n",
      "                             ARIMA Model Results                              \n",
      "==============================================================================\n",
      "Dep. Variable:              D.returns   No. Observations:                 1693\n",
      "Model:                 ARIMA(1, 1, 0)   Log Likelihood                2286.794\n",
      "Method:                       css-mle   S.D. of innovations              0.063\n",
      "Date:                Wed, 11 Jan 2023   AIC                          -4567.588\n",
      "Time:                        22:55:07   BIC                          -4551.285\n",
      "Sample:                    01-02-2010   HQIC                         -4561.551\n",
      "                         - 08-21-2014                                         \n",
      "===================================================================================\n",
      "                      coef    std err          z      P>|z|      [0.025      0.975]\n",
      "-----------------------------------------------------------------------------------\n",
      "const           -2.348e-05      0.001     -0.024      0.981      -0.002       0.002\n",
      "ar.L1.D.returns    -0.5584      0.020    -27.697      0.000      -0.598      -0.519\n",
      "                                    Roots                                    \n",
      "=============================================================================\n",
      "                  Real          Imaginary           Modulus         Frequency\n",
      "-----------------------------------------------------------------------------\n",
      "AR.1           -1.7907           +0.0000j            1.7907            0.5000\n",
      "-----------------------------------------------------------------------------\n"
     ]
    },
    {
     "data": {
      "image/png": "[encoded data removed]",
      "text/plain": [
       "<Figure size 432x288 with 1 Axes>"
      ]
     },
     "metadata": {
      "needs_background": "light"
     },
     "output_type": "display_data"
    },
    {
     "data": {
      "image/png": "[encoded data removed]",
      "text/plain": [
       "<Figure size 432x288 with 1 Axes>"
      ]
     },
     "metadata": {
      "needs_background": "light"
     },
     "output_type": "display_data"
    },
    {
     "name": "stderr",
     "output_type": "stream",
     "text": [
      "C:\\Users\\FultonRose\\anaconda3\\lib\\site-packages\\statsmodels\\tsa\\arima_model.py:472: FutureWarning: \n",
      "statsmodels.tsa.arima_model.ARMA and statsmodels.tsa.arima_model.ARIMA have\n",
      "been deprecated in favor of statsmodels.tsa.arima.model.ARIMA (note the .\n",
      "between arima and model) and\n",
      "statsmodels.tsa.SARIMAX. These will be removed after the 0.12 release.\n",
      "\n",
      "statsmodels.tsa.arima.model.ARIMA makes use of the statespace framework and\n",
      "is both well tested and maintained.\n",
      "\n",
      "To silence this warning and continue using ARMA and ARIMA until they are\n",
      "removed, use:\n",
      "\n",
      "import warnings\n",
      "warnings.filterwarnings('ignore', 'statsmodels.tsa.arima_model.ARMA',\n",
      "                        FutureWarning)\n",
      "warnings.filterwarnings('ignore', 'statsmodels.tsa.arima_model.ARIMA',\n",
      "                        FutureWarning)\n",
      "\n",
      "  warnings.warn(ARIMA_DEPRECATION_WARN, FutureWarning)\n"
     ]
    },
    {
     "name": "stdout",
     "output_type": "stream",
     "text": [
      "BNB\n",
      "                             ARIMA Model Results                              \n",
      "==============================================================================\n",
      "Dep. Variable:              D.returns   No. Observations:                 1693\n",
      "Model:                 ARIMA(1, 1, 0)   Log Likelihood                2027.158\n",
      "Method:                       css-mle   S.D. of innovations              0.073\n",
      "Date:                Wed, 11 Jan 2023   AIC                          -4048.316\n",
      "Time:                        22:55:07   BIC                          -4032.013\n",
      "Sample:                    01-02-2010   HQIC                         -4042.279\n",
      "                         - 08-21-2014                                         \n",
      "===================================================================================\n",
      "                      coef    std err          z      P>|z|      [0.025      0.975]\n",
      "-----------------------------------------------------------------------------------\n",
      "const            1.398e-05      0.001      0.012      0.990      -0.002       0.002\n",
      "ar.L1.D.returns    -0.5447      0.020    -26.730      0.000      -0.585      -0.505\n",
      "                                    Roots                                    \n",
      "=============================================================================\n",
      "                  Real          Imaginary           Modulus         Frequency\n",
      "-----------------------------------------------------------------------------\n",
      "AR.1           -1.8360           +0.0000j            1.8360            0.5000\n",
      "-----------------------------------------------------------------------------\n"
     ]
    },
    {
     "data": {
      "image/png": "[encoded data removed]",
      "text/plain": [
       "<Figure size 432x288 with 1 Axes>"
      ]
     },
     "metadata": {
      "needs_background": "light"
     },
     "output_type": "display_data"
    },
    {
     "data": {
      "image/png": "[encoded data removed]",
      "text/plain": [
       "<Figure size 432x288 with 1 Axes>"
      ]
     },
     "metadata": {
      "needs_background": "light"
     },
     "output_type": "display_data"
    },
    {
     "name": "stderr",
     "output_type": "stream",
     "text": [
      "C:\\Users\\FultonRose\\anaconda3\\lib\\site-packages\\statsmodels\\tsa\\arima_model.py:472: FutureWarning: \n",
      "statsmodels.tsa.arima_model.ARMA and statsmodels.tsa.arima_model.ARIMA have\n",
      "been deprecated in favor of statsmodels.tsa.arima.model.ARIMA (note the .\n",
      "between arima and model) and\n",
      "statsmodels.tsa.SARIMAX. These will be removed after the 0.12 release.\n",
      "\n",
      "statsmodels.tsa.arima.model.ARIMA makes use of the statespace framework and\n",
      "is both well tested and maintained.\n",
      "\n",
      "To silence this warning and continue using ARMA and ARIMA until they are\n",
      "removed, use:\n",
      "\n",
      "import warnings\n",
      "warnings.filterwarnings('ignore', 'statsmodels.tsa.arima_model.ARMA',\n",
      "                        FutureWarning)\n",
      "warnings.filterwarnings('ignore', 'statsmodels.tsa.arima_model.ARIMA',\n",
      "                        FutureWarning)\n",
      "\n",
      "  warnings.warn(ARIMA_DEPRECATION_WARN, FutureWarning)\n"
     ]
    },
    {
     "name": "stdout",
     "output_type": "stream",
     "text": [
      "Usdt\n",
      "                             ARIMA Model Results                              \n",
      "==============================================================================\n",
      "Dep. Variable:              D.returns   No. Observations:                 1693\n",
      "Model:                 ARIMA(1, 1, 0)   Log Likelihood                6194.612\n",
      "Method:                       css-mle   S.D. of innovations              0.006\n",
      "Date:                Wed, 11 Jan 2023   AIC                         -12383.225\n",
      "Time:                        22:55:08   BIC                         -12366.922\n",
      "Sample:                    01-02-2010   HQIC                        -12377.188\n",
      "                         - 08-21-2014                                         \n",
      "===================================================================================\n",
      "                      coef    std err          z      P>|z|      [0.025      0.975]\n",
      "-----------------------------------------------------------------------------------\n",
      "const            1.663e-06   9.44e-05      0.018      0.986      -0.000       0.000\n",
      "ar.L1.D.returns    -0.6050      0.019    -31.295      0.000      -0.643      -0.567\n",
      "                                    Roots                                    \n",
      "=============================================================================\n",
      "                  Real          Imaginary           Modulus         Frequency\n",
      "-----------------------------------------------------------------------------\n",
      "AR.1           -1.6528           +0.0000j            1.6528            0.5000\n",
      "-----------------------------------------------------------------------------\n"
     ]
    },
    {
     "data": {
      "image/png": "[encoded data removed]",
      "text/plain": [
       "<Figure size 432x288 with 1 Axes>"
      ]
     },
     "metadata": {
      "needs_background": "light"
     },
     "output_type": "display_data"
    },
    {
     "data": {
      "image/png": "[encoded data removed]",
      "text/plain": [
       "<Figure size 432x288 with 1 Axes>"
      ]
     },
     "metadata": {
      "needs_background": "light"
     },
     "output_type": "display_data"
    }
   ],
   "source": [
    "# Fit the ARIMA(1,1) model to each cryptocurrency\n",
    "currencies = {'Bitcoin': btc_returns, 'Ethereum': eth_returns, 'BNB': bnb_returns, 'Usdt': usdt_returns}\n",
    "for currency, returns in currencies.items():\n",
    "    # Transform returns into time series format\n",
    "    ts_returns = pd.DataFrame(returns)\n",
    "    ts_returns.index = pd.date_range(start='1/1/2010', periods=len(returns), freq='D')\n",
    "    ts_returns = ts_returns.iloc[:,0].to_frame(name='returns')\n",
    "\n",
    "    # Fit the ARIMA(1,1) model\n",
    "    model = sm.tsa.ARIMA(ts_returns, order=(1,1,0))\n",
    "    arima_fit = model.fit()\n",
    "\n",
    "    # Print summary and diagnostic information\n",
    "    print(currency)\n",
    "    print(arima_fit.summary())\n",
    "    sm.graphics.tsa.plot_acf(arima_fit.resid, lags=30)\n",
    "    sm.graphics.tsa.plot_pacf(arima_fit.resid, lags=30)\n",
    "    plt.show()\n"
   ]
  },
  {
   "cell_type": "code",
   "execution_count": 27,
   "id": "8f41367a",
   "metadata": {},
   "outputs": [
    {
     "name": "stdout",
     "output_type": "stream",
     "text": [
      "Bitcoin\n",
      "                       Zero Mean - GARCH Model Results                        \n",
      "==============================================================================\n",
      "Dep. Variable:                      y   R-squared:                       0.000\n",
      "Mean Model:                 Zero Mean   Adj. R-squared:                  0.001\n",
      "Vol Model:                      GARCH   Log-Likelihood:                3077.19\n",
      "Distribution:                  Normal   AIC:                          -6148.39\n",
      "Method:            Maximum Likelihood   BIC:                          -6132.08\n",
      "                                        No. Observations:                 1694\n",
      "Date:                Wed, Jan 11 2023   Df Residuals:                     1694\n",
      "Time:                        22:55:24   Df Model:                            0\n",
      "                              Volatility Model                              \n",
      "============================================================================\n",
      "                 coef    std err          t      P>|t|      95.0% Conf. Int.\n",
      "----------------------------------------------------------------------------\n",
      "omega      8.8831e-05  3.379e-05      2.629  8.556e-03 [2.261e-05,1.550e-04]\n",
      "alpha[1]       0.0738  3.109e-02      2.374  1.762e-02   [1.286e-02,  0.135]\n",
      "beta[1]        0.8765  3.473e-02     25.235 1.637e-140     [  0.808,  0.945]\n",
      "============================================================================\n",
      "\n",
      "Covariance estimator: robust\n",
      "Ethereum\n",
      "                       Zero Mean - GARCH Model Results                        \n",
      "==============================================================================\n",
      "Dep. Variable:                      y   R-squared:                       0.000\n",
      "Mean Model:                 Zero Mean   Adj. R-squared:                  0.001\n",
      "Vol Model:                      GARCH   Log-Likelihood:                2666.81\n",
      "Distribution:                  Normal   AIC:                          -5327.61\n",
      "Method:            Maximum Likelihood   BIC:                          -5311.31\n",
      "                                        No. Observations:                 1694\n",
      "Date:                Wed, Jan 11 2023   Df Residuals:                     1694\n",
      "Time:                        22:55:24   Df Model:                            0\n",
      "                              Volatility Model                              \n",
      "============================================================================\n",
      "                 coef    std err          t      P>|t|      95.0% Conf. Int.\n",
      "----------------------------------------------------------------------------\n",
      "omega      1.7225e-04  7.559e-05      2.279  2.268e-02 [2.410e-05,3.204e-04]\n",
      "alpha[1]       0.0847  3.656e-02      2.317  2.053e-02   [1.303e-02,  0.156]\n",
      "beta[1]        0.8558  4.966e-02     17.235  1.451e-66     [  0.758,  0.953]\n",
      "============================================================================\n",
      "\n",
      "Covariance estimator: robust\n",
      "BNB\n",
      "                       Zero Mean - GARCH Model Results                        \n",
      "==============================================================================\n",
      "Dep. Variable:                      y   R-squared:                       0.000\n",
      "Mean Model:                 Zero Mean   Adj. R-squared:                  0.001\n",
      "Vol Model:                      GARCH   Log-Likelihood:                2591.50\n",
      "Distribution:                  Normal   AIC:                          -5177.00\n",
      "Method:            Maximum Likelihood   BIC:                          -5160.70\n",
      "                                        No. Observations:                 1694\n",
      "Date:                Wed, Jan 11 2023   Df Residuals:                     1694\n",
      "Time:                        22:55:24   Df Model:                            0\n",
      "                              Volatility Model                              \n",
      "============================================================================\n",
      "                 coef    std err          t      P>|t|      95.0% Conf. Int.\n",
      "----------------------------------------------------------------------------\n",
      "omega      9.5180e-05  3.766e-05      2.527  1.149e-02 [2.137e-05,1.690e-04]\n",
      "alpha[1]       0.1115  3.591e-02      3.106  1.896e-03   [4.116e-02,  0.182]\n",
      "beta[1]        0.8687  3.112e-02     27.915 1.753e-171     [  0.808,  0.930]\n",
      "============================================================================\n",
      "\n",
      "Covariance estimator: robust\n",
      "Usdt\n",
      "                       Zero Mean - GARCH Model Results                        \n",
      "==============================================================================\n",
      "Dep. Variable:                      y   R-squared:                       0.000\n",
      "Mean Model:                 Zero Mean   Adj. R-squared:                  0.001\n",
      "Vol Model:                      GARCH   Log-Likelihood:                7629.88\n",
      "Distribution:                  Normal   AIC:                          -15253.8\n",
      "Method:            Maximum Likelihood   BIC:                          -15237.5\n",
      "                                        No. Observations:                 1694\n",
      "Date:                Wed, Jan 11 2023   Df Residuals:                     1694\n",
      "Time:                        22:55:24   Df Model:                            0\n",
      "                              Volatility Model                              \n",
      "============================================================================\n",
      "                 coef    std err          t      P>|t|      95.0% Conf. Int.\n",
      "----------------------------------------------------------------------------\n",
      "omega      4.4912e-07  4.081e-11  1.101e+04      0.000 [4.490e-07,4.492e-07]\n",
      "alpha[1]       0.2000  2.002e-02      9.992  1.655e-23     [  0.161,  0.239]\n",
      "beta[1]        0.7800  1.192e-02     65.421      0.000     [  0.757,  0.803]\n",
      "============================================================================\n",
      "\n",
      "Covariance estimator: robust\n",
      "WARNING: The optimizer did not indicate successful convergence. The message was Inequality constraints incompatible.\n",
      "See convergence_flag.\n",
      "\n"
     ]
    },
    {
     "name": "stderr",
     "output_type": "stream",
     "text": [
      "C:\\Users\\FultonRose\\anaconda3\\lib\\site-packages\\arch\\univariate\\base.py:309: DataScaleWarning: y is poorly scaled, which may affect convergence of the optimizer when\n",
      "estimating the model parameters. The scale of y is 0.001705. Parameter\n",
      "estimation work better when this value is between 1 and 1000. The recommended\n",
      "rescaling is 10 * y.\n",
      "\n",
      "This warning can be disabled by either rescaling y before initializing the\n",
      "model or by setting rescale=False.\n",
      "\n",
      "  warnings.warn(\n",
      "C:\\Users\\FultonRose\\anaconda3\\lib\\site-packages\\arch\\univariate\\base.py:309: DataScaleWarning: y is poorly scaled, which may affect convergence of the optimizer when\n",
      "estimating the model parameters. The scale of y is 0.002716. Parameter\n",
      "estimation work better when this value is between 1 and 1000. The recommended\n",
      "rescaling is 10 * y.\n",
      "\n",
      "This warning can be disabled by either rescaling y before initializing the\n",
      "model or by setting rescale=False.\n",
      "\n",
      "  warnings.warn(\n",
      "C:\\Users\\FultonRose\\anaconda3\\lib\\site-packages\\arch\\univariate\\base.py:309: DataScaleWarning: y is poorly scaled, which may affect convergence of the optimizer when\n",
      "estimating the model parameters. The scale of y is 0.003752. Parameter\n",
      "estimation work better when this value is between 1 and 1000. The recommended\n",
      "rescaling is 10 * y.\n",
      "\n",
      "This warning can be disabled by either rescaling y before initializing the\n",
      "model or by setting rescale=False.\n",
      "\n",
      "  warnings.warn(\n",
      "C:\\Users\\FultonRose\\anaconda3\\lib\\site-packages\\arch\\univariate\\base.py:309: DataScaleWarning: y is poorly scaled, which may affect convergence of the optimizer when\n",
      "estimating the model parameters. The scale of y is 2.246e-05. Parameter\n",
      "estimation work better when this value is between 1 and 1000. The recommended\n",
      "rescaling is 100 * y.\n",
      "\n",
      "This warning can be disabled by either rescaling y before initializing the\n",
      "model or by setting rescale=False.\n",
      "\n",
      "  warnings.warn(\n",
      "C:\\Users\\FultonRose\\anaconda3\\lib\\site-packages\\arch\\univariate\\base.py:753: ConvergenceWarning: The optimizer returned code 4. The message is:\n",
      "Inequality constraints incompatible\n",
      "See scipy.optimize.fmin_slsqp for code meaning.\n",
      "\n",
      "  warnings.warn(\n"
     ]
    }
   ],
   "source": [
    "import arch\n",
    "\n",
    "# Fit the GARCH(1,1) model to each cryptocurrency\n",
    "currencies = {'Bitcoin': btc_returns, 'Ethereum': eth_returns, 'BNB': bnb_returns, 'Usdt': usdt_returns}\n",
    "for currency, returns in currencies.items():\n",
    "    # Create a GARCH model\n",
    "    garch_model = arch.arch_model(returns, mean='Zero', vol='GARCH', p=1, q=1)\n",
    "\n",
    "    # Fit the GARCH model\n",
    "    garch_fit = garch_model.fit(disp='off')\n",
    "\n",
    "    # Print summary of the fit\n",
    "    print(currency)\n",
    "    print(garch_fit.summary())\n"
   ]
  },
  {
   "cell_type": "code",
   "execution_count": 28,
   "id": "6837bc6f",
   "metadata": {},
   "outputs": [
    {
     "name": "stderr",
     "output_type": "stream",
     "text": [
      "C:\\Users\\FultonRose\\anaconda3\\lib\\site-packages\\arch\\univariate\\base.py:309: DataScaleWarning: y is poorly scaled, which may affect convergence of the optimizer when\n",
      "estimating the model parameters. The scale of y is 0.001705. Parameter\n",
      "estimation work better when this value is between 1 and 1000. The recommended\n",
      "rescaling is 10 * y.\n",
      "\n",
      "This warning can be disabled by either rescaling y before initializing the\n",
      "model or by setting rescale=False.\n",
      "\n",
      "  warnings.warn(\n",
      "C:\\Users\\FultonRose\\anaconda3\\lib\\site-packages\\arch\\univariate\\base.py:309: DataScaleWarning: y is poorly scaled, which may affect convergence of the optimizer when\n",
      "estimating the model parameters. The scale of y is 0.002716. Parameter\n",
      "estimation work better when this value is between 1 and 1000. The recommended\n",
      "rescaling is 10 * y.\n",
      "\n",
      "This warning can be disabled by either rescaling y before initializing the\n",
      "model or by setting rescale=False.\n",
      "\n",
      "  warnings.warn(\n",
      "C:\\Users\\FultonRose\\anaconda3\\lib\\site-packages\\arch\\univariate\\base.py:309: DataScaleWarning: y is poorly scaled, which may affect convergence of the optimizer when\n",
      "estimating the model parameters. The scale of y is 0.003752. Parameter\n",
      "estimation work better when this value is between 1 and 1000. The recommended\n",
      "rescaling is 10 * y.\n",
      "\n",
      "This warning can be disabled by either rescaling y before initializing the\n",
      "model or by setting rescale=False.\n",
      "\n",
      "  warnings.warn(\n",
      "C:\\Users\\FultonRose\\anaconda3\\lib\\site-packages\\arch\\univariate\\base.py:309: DataScaleWarning: y is poorly scaled, which may affect convergence of the optimizer when\n",
      "estimating the model parameters. The scale of y is 2.246e-05. Parameter\n",
      "estimation work better when this value is between 1 and 1000. The recommended\n",
      "rescaling is 100 * y.\n",
      "\n",
      "This warning can be disabled by either rescaling y before initializing the\n",
      "model or by setting rescale=False.\n",
      "\n",
      "  warnings.warn(\n"
     ]
    },
    {
     "name": "stdout",
     "output_type": "stream",
     "text": [
      "Bitcoin\n",
      "                       Zero Mean - EGARCH Model Results                       \n",
      "==============================================================================\n",
      "Dep. Variable:                      y   R-squared:                       0.000\n",
      "Mean Model:                 Zero Mean   Adj. R-squared:                  0.001\n",
      "Vol Model:                     EGARCH   Log-Likelihood:                3072.50\n",
      "Distribution:                  Normal   AIC:                          -6138.99\n",
      "Method:            Maximum Likelihood   BIC:                          -6122.69\n",
      "                                        No. Observations:                 1694\n",
      "Date:                Wed, Jan 11 2023   Df Residuals:                     1694\n",
      "Time:                        22:55:44   Df Model:                            0\n",
      "                             Volatility Model                             \n",
      "==========================================================================\n",
      "                 coef    std err          t      P>|t|    95.0% Conf. Int.\n",
      "--------------------------------------------------------------------------\n",
      "omega         -0.3990      0.146     -2.729  6.348e-03   [ -0.685, -0.112]\n",
      "alpha[1]       0.1492  4.212e-02      3.543  3.957e-04 [6.668e-02,  0.232]\n",
      "beta[1]        0.9355  2.393e-02     39.090      0.000   [  0.889,  0.982]\n",
      "==========================================================================\n",
      "\n",
      "Covariance estimator: robust\n",
      "Ethereum\n",
      "                       Zero Mean - EGARCH Model Results                       \n",
      "==============================================================================\n",
      "Dep. Variable:                      y   R-squared:                       0.000\n",
      "Mean Model:                 Zero Mean   Adj. R-squared:                  0.001\n",
      "Vol Model:                     EGARCH   Log-Likelihood:                2662.36\n",
      "Distribution:                  Normal   AIC:                          -5318.73\n",
      "Method:            Maximum Likelihood   BIC:                          -5302.42\n",
      "                                        No. Observations:                 1694\n",
      "Date:                Wed, Jan 11 2023   Df Residuals:                     1694\n",
      "Time:                        22:55:44   Df Model:                            0\n",
      "                             Volatility Model                             \n",
      "==========================================================================\n",
      "                 coef    std err          t      P>|t|    95.0% Conf. Int.\n",
      "--------------------------------------------------------------------------\n",
      "omega         -0.3097      0.164     -1.888  5.901e-02 [ -0.631,1.179e-02]\n",
      "alpha[1]       0.1546  5.152e-02      3.002  2.685e-03 [5.367e-02,  0.256]\n",
      "beta[1]        0.9457  2.799e-02     33.783 3.478e-250   [  0.891,  1.001]\n",
      "==========================================================================\n",
      "\n",
      "Covariance estimator: robust\n",
      "BNB\n",
      "                       Zero Mean - EGARCH Model Results                       \n",
      "==============================================================================\n",
      "Dep. Variable:                      y   R-squared:                       0.000\n",
      "Mean Model:                 Zero Mean   Adj. R-squared:                  0.001\n",
      "Vol Model:                     EGARCH   Log-Likelihood:                2585.15\n",
      "Distribution:                  Normal   AIC:                          -5164.30\n",
      "Method:            Maximum Likelihood   BIC:                          -5147.99\n",
      "                                        No. Observations:                 1694\n",
      "Date:                Wed, Jan 11 2023   Df Residuals:                     1694\n",
      "Time:                        22:55:44   Df Model:                            0\n",
      "                             Volatility Model                             \n",
      "==========================================================================\n",
      "                 coef    std err          t      P>|t|    95.0% Conf. Int.\n",
      "--------------------------------------------------------------------------\n",
      "omega         -0.1605  9.195e-02     -1.745  8.094e-02 [ -0.341,1.974e-02]\n",
      "alpha[1]       0.2565  6.457e-02      3.973  7.093e-05   [  0.130,  0.383]\n",
      "beta[1]        0.9685  1.611e-02     60.122      0.000   [  0.937,  1.000]\n",
      "==========================================================================\n",
      "\n",
      "Covariance estimator: robust\n",
      "Usdt\n",
      "                       Zero Mean - EGARCH Model Results                       \n",
      "==============================================================================\n",
      "Dep. Variable:                      y   R-squared:                       0.000\n",
      "Mean Model:                 Zero Mean   Adj. R-squared:                  0.001\n",
      "Vol Model:                     EGARCH   Log-Likelihood:           -4.12691e+08\n",
      "Distribution:                  Normal   AIC:                       8.25382e+08\n",
      "Method:            Maximum Likelihood   BIC:                       8.25382e+08\n",
      "                                        No. Observations:                 1694\n",
      "Date:                Wed, Jan 11 2023   Df Residuals:                     1694\n",
      "Time:                        22:55:45   Df Model:                            0\n",
      "                              Volatility Model                              \n",
      "============================================================================\n",
      "                 coef    std err          t      P>|t|      95.0% Conf. Int.\n",
      "----------------------------------------------------------------------------\n",
      "omega         -1.5325  2.736e-08 -5.602e+07      0.000     [ -1.533, -1.533]\n",
      "alpha[1]     348.3989  9.854e-08  3.536e+09      0.000 [3.484e+02,3.484e+02]\n",
      "beta[1]        0.9472  1.093e-07  8.665e+06      0.000     [  0.947,  0.947]\n",
      "============================================================================\n",
      "\n",
      "Covariance estimator: robust\n"
     ]
    }
   ],
   "source": [
    "import arch\n",
    "\n",
    "# Fit the EGARCH(1,1) model to each cryptocurrency\n",
    "currencies = {'Bitcoin': btc_returns, 'Ethereum': eth_returns, 'BNB': bnb_returns, 'Usdt': usdt_returns}\n",
    "for currency, returns in currencies.items():\n",
    "    # Create a EGARCH model\n",
    "    egarch_model = arch.arch_model(returns, mean='Zero', vol='EGARCH', p=1, q=1)\n",
    "\n",
    "    # Fit the EGARCH model\n",
    "    egarch_fit = egarch_model.fit(disp='off')\n",
    "\n",
    "    # Print summary of the fit\n",
    "    print(currency)\n",
    "    print(egarch_fit.summary())\n"
   ]
  }
 ],
 "metadata": {
  "kernelspec": {
   "display_name": "Python 3 (ipykernel)",
   "language": "python",
   "name": "python3"
  },
  "language_info": {
   "codemirror_mode": {
    "name": "ipython",
    "version": 3
   },
   "file_extension": ".py",
   "mimetype": "text/x-python",
   "name": "python",
   "nbconvert_exporter": "python",
   "pygments_lexer": "ipython3",
   "version": "3.9.7"
  }
 },
 "nbformat": 4,
 "nbformat_minor": 5
}
